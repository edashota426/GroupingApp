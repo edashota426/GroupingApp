{
 "cells": [
  {
   "cell_type": "code",
   "execution_count": 1,
   "metadata": {},
   "outputs": [
    {
     "name": "stdout",
     "output_type": "stream",
     "text": [
      "hello\n"
     ]
    }
   ],
   "source": [
    "print(\"hello\")"
   ]
  },
  {
   "cell_type": "code",
   "execution_count": 3,
   "metadata": {},
   "outputs": [
    {
     "name": "stdout",
     "output_type": "stream",
     "text": [
      "I like apple and grape but not banana...\n"
     ]
    }
   ],
   "source": [
    "fruit1 = \"apple\"\n",
    "fruit2 = \"grape\"\n",
    "fruit3 =  \"banana\"\n",
    "\n",
    "line = \"I like {} and {} but not {}...\".format(fruit1, fruit2, fruit3)\n",
    "print(line)\n"
   ]
  },
  {
   "cell_type": "code",
   "execution_count": 16,
   "metadata": {},
   "outputs": [
    {
     "data": {
      "text/plain": [
       "10"
      ]
     },
     "execution_count": 16,
     "metadata": {},
     "output_type": "execute_result"
    }
   ],
   "source": [
    "def multiple(*numbers):\n",
    "    mul = 1\n",
    "    for num in numbers:\n",
    "        mul *=  num\n",
    "    return mul\n",
    "\n",
    "number1 = 1\n",
    "number2 = 2\n",
    "number5 = 5\n",
    "\n",
    "multiple(number1, number2, number5)"
   ]
  },
  {
   "cell_type": "code",
   "execution_count": null,
   "metadata": {
    "collapsed": true
   },
   "outputs": [],
   "source": []
  }
 ],
 "metadata": {
  "kernelspec": {
   "display_name": "Python 3",
   "language": "python",
   "name": "python3"
  },
  "language_info": {
   "codemirror_mode": {
    "name": "ipython",
    "version": 3
   },
   "file_extension": ".py",
   "mimetype": "text/x-python",
   "name": "python",
   "nbconvert_exporter": "python",
   "pygments_lexer": "ipython3",
   "version": "3.6.3"
  }
 },
 "nbformat": 4,
 "nbformat_minor": 2
}
